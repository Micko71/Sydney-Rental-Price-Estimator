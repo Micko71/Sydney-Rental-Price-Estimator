{
 "cells": [
  {
   "cell_type": "code",
   "execution_count": 25,
   "id": "f6f2564c",
   "metadata": {},
   "outputs": [],
   "source": [
    "from bs4 import BeautifulSoup\n",
    "from urllib.request import Request, urlopen\n",
    "import pandas as pd\n",
    "import re\n",
    "import time\n",
    "import sys"
   ]
  },
  {
   "cell_type": "code",
   "execution_count": 26,
   "id": "e37a0725",
   "metadata": {},
   "outputs": [],
   "source": [
    "def get_location(detail):\n",
    "    location = detail.find('span',{'data-testid':\"address-line2\"}).get_text()\n",
    "    return location"
   ]
  },
  {
   "cell_type": "code",
   "execution_count": 27,
   "id": "5c110a35",
   "metadata": {},
   "outputs": [],
   "source": [
    "def get_price(detail):\n",
    "    price = detail.p.get_text()\n",
    "    return price\n",
    "    "
   ]
  },
  {
   "cell_type": "code",
   "execution_count": 28,
   "id": "7a7611da",
   "metadata": {},
   "outputs": [],
   "source": [
    "def get_features(detail):\n",
    "    feature_list = []\n",
    "    features = detail.find_all(\"span\", {\"class\": \"css-lvv8is\"})\n",
    "    bed = features[0].get_text()\n",
    "    bath = features[1].get_text()\n",
    "    parking = features[2].get_text()\n",
    "    feature_list.extend([bed,bath,parking])\n",
    "    return feature_list"
   ]
  },
  {
   "cell_type": "code",
   "execution_count": 29,
   "id": "c9bda85a",
   "metadata": {},
   "outputs": [],
   "source": [
    "def job_done(page):\n",
    "    print(f'Job done, {page} pages returned')\n",
    "    sys.exit()\n",
    "    "
   ]
  },
  {
   "cell_type": "code",
   "execution_count": 30,
   "id": "cb2c55f3",
   "metadata": {},
   "outputs": [],
   "source": [
    "def get_next_page (page,next_page,original_url):\n",
    "    if page==1 and len(next_page)==0: #check if there is only one page of listings \n",
    "        job_done(page)\n",
    "    if page>1 and len(next_page)==1: #check if current page is last page of listings \n",
    "        job_done(page)\n",
    "    elif page==1:\n",
    "        next_page = next_page[0].get('href')\n",
    "    else:\n",
    "        next_page = next_page[1].get('href')\n",
    "        \n",
    "    last_slash_index = next_page.rfind(\"/\")\n",
    "    next_page = original_url + next_page[last_slash_index + 1:]\n",
    "    \n",
    "    return next_page #return url of next page in listings\n",
    "    "
   ]
  },
  {
   "cell_type": "code",
   "execution_count": 31,
   "id": "e7b0e125",
   "metadata": {},
   "outputs": [
    {
     "name": "stdout",
     "output_type": "stream",
     "text": [
      "21\n",
      "41\n",
      "61\n",
      "81\n",
      "101\n",
      "121\n",
      "141\n",
      "161\n",
      "181\n",
      "201\n",
      "221\n",
      "property number 229 not entered\n",
      "https://www.domain.com.au/rent/sydney-nsw-2000/?page=12\n",
      "https://www.domain.com.au/91-liverpool-street-sydney-nsw-2000-16432912\n",
      "240\n",
      "property number 253 not entered\n",
      "https://www.domain.com.au/rent/sydney-nsw-2000/?page=13\n",
      "https://www.domain.com.au/level-69-6902-117-bathurst-street-sydney-nsw-2000-16867364\n",
      "259\n",
      "279\n",
      "299\n",
      "319\n",
      "339\n",
      "359\n",
      "379\n",
      "399\n",
      "419\n",
      "439\n",
      "459\n",
      "479\n",
      "499\n",
      "519\n",
      "539\n",
      "559\n",
      "579\n",
      "599\n",
      "619\n",
      "639\n",
      "659\n",
      "679\n",
      "699\n",
      "719\n",
      "property number 732 not entered\n",
      "https://www.domain.com.au/rent/sydney-nsw-2000/?page=37\n",
      "https://www.domain.com.au/503-1-wattle-crescent-pyrmont-nsw-2009-16930408\n",
      "738\n",
      "758\n",
      "778\n",
      "798\n",
      "818\n",
      "838\n",
      "858\n",
      "property number 876 not entered\n",
      "https://www.domain.com.au/rent/sydney-nsw-2000/?page=44\n",
      "https://www.domain.com.au/601-88-hay-street-haymarket-nsw-2000-16725238\n",
      "872\n",
      "Job done, 44 pages returned\n"
     ]
    },
    {
     "ename": "SystemExit",
     "evalue": "",
     "output_type": "error",
     "traceback": [
      "An exception has occurred, use %tb to see the full traceback.\n",
      "\u001b[0;31mSystemExit\u001b[0m\n"
     ]
    },
    {
     "name": "stderr",
     "output_type": "stream",
     "text": [
      "/Users/micko/anaconda3/envs/llmApp/lib/python3.11/site-packages/IPython/core/interactiveshell.py:3561: UserWarning: To exit: use 'exit', 'quit', or Ctrl-D.\n",
      "  warn(\"To exit: use 'exit', 'quit', or Ctrl-D.\", stacklevel=1)\n"
     ]
    }
   ],
   "source": [
    "#dataframe to hold property data\n",
    "df = pd.DataFrame(columns=['Price', 'Property_Type', 'Bed',\n",
    "                'Bath','Parking','Location','Link'])\n",
    "counter = 0 #counter to track number of properties parsed\n",
    "page = 1 #counter to track number of pages\n",
    "row_index=0 #indexer for dataframe\n",
    "url = ('https://www.domain.com.au/rent/sydney-nsw-2000/') #url of first page\n",
    "original_url = url\n",
    "\n",
    "while True:\n",
    "    req = Request(url, headers = {'User-Agent':'Safari/537.36'})\n",
    "    try:\n",
    "        webpage = urlopen(req).read()\n",
    "    except:\n",
    "        sys.exit('page not returned')\n",
    "    soup = BeautifulSoup(webpage, 'html.parser')\n",
    "    details = soup.find_all(\"div\", {\"class\": \"css-qrqvvg\"})\n",
    "    if len(details) == 0:\n",
    "        job_done(page)\n",
    "    for detail in details:\n",
    "        counter+=1\n",
    "        try:\n",
    "            price = get_price(detail)\n",
    "            prop_type = detail.find(\"span\", {\"class\": \"css-693528\"}).get_text()\n",
    "            bed = get_features(detail)[0]\n",
    "            bath = get_features(detail)[1]\n",
    "            parking = get_features(detail)[2]\n",
    "            location = get_location(detail)\n",
    "            link = detail.a.get('href')\n",
    "            \n",
    "            #create dictionary of property features\n",
    "            info_dict = {'Price':price, 'Property_Type':prop_type, \n",
    "                'Bed':bed, 'Bath':bath,'Parking':parking,\n",
    "                'Location':location,'Link':link}\n",
    "            info_df = pd.DataFrame(info_dict, index=[row_index])\n",
    "            df = pd.concat([df, info_df])\n",
    "            row_index+=1\n",
    "            \n",
    "        #print details of any properties not entered\n",
    "        except:\n",
    "            print('property number {} not entered'.format(counter))\n",
    "            print(url)\n",
    "            print(link)\n",
    "            \n",
    "    print(len(df)) #output length of dataframe after each page is parsed\n",
    "    \n",
    "    next_page = soup.find_all(\"a\", {\"class\": \"css-xixru3\"}) #gets list of urls to neighbouring page(s)\n",
    "    url = get_next_page(page,next_page,original_url)    \n",
    "    page+=1\n",
    "    time.sleep(5)"
   ]
  },
  {
   "cell_type": "code",
   "execution_count": 32,
   "id": "0eab9854",
   "metadata": {},
   "outputs": [],
   "source": [
    "df.to_csv('properties_raw_df.csv', index=False) "
   ]
  },
  {
   "cell_type": "code",
   "execution_count": null,
   "id": "adc0b6ea-1a33-4e45-960a-4fcfdd669233",
   "metadata": {},
   "outputs": [],
   "source": []
  }
 ],
 "metadata": {
  "kernelspec": {
   "display_name": "Python 3 (ipykernel)",
   "language": "python",
   "name": "python3"
  },
  "language_info": {
   "codemirror_mode": {
    "name": "ipython",
    "version": 3
   },
   "file_extension": ".py",
   "mimetype": "text/x-python",
   "name": "python",
   "nbconvert_exporter": "python",
   "pygments_lexer": "ipython3",
   "version": "3.11.7"
  }
 },
 "nbformat": 4,
 "nbformat_minor": 5
}
